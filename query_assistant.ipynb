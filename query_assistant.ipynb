{
 "cells": [
  {
   "cell_type": "code",
   "execution_count": 1,
   "id": "f17a3631",
   "metadata": {},
   "outputs": [
    {
     "name": "stdout",
     "output_type": "stream",
     "text": [
      "Requirement already satisfied: pymongo in c:\\users\\harsh\\appdata\\local\\packages\\pythonsoftwarefoundation.python.3.11_qbz5n2kfra8p0\\localcache\\local-packages\\python311\\site-packages (4.13.0)\n",
      "Requirement already satisfied: ollama in c:\\users\\harsh\\appdata\\local\\packages\\pythonsoftwarefoundation.python.3.11_qbz5n2kfra8p0\\localcache\\local-packages\\python311\\site-packages (0.4.9)\n",
      "Requirement already satisfied: dnspython<3.0.0,>=1.16.0 in c:\\users\\harsh\\appdata\\local\\packages\\pythonsoftwarefoundation.python.3.11_qbz5n2kfra8p0\\localcache\\local-packages\\python311\\site-packages (from pymongo) (2.7.0)\n",
      "Requirement already satisfied: httpx>=0.27 in c:\\users\\harsh\\appdata\\local\\packages\\pythonsoftwarefoundation.python.3.11_qbz5n2kfra8p0\\localcache\\local-packages\\python311\\site-packages (from ollama) (0.28.1)\n",
      "Requirement already satisfied: pydantic>=2.9 in c:\\users\\harsh\\appdata\\local\\packages\\pythonsoftwarefoundation.python.3.11_qbz5n2kfra8p0\\localcache\\local-packages\\python311\\site-packages (from ollama) (2.11.5)\n",
      "Requirement already satisfied: anyio in c:\\users\\harsh\\appdata\\local\\packages\\pythonsoftwarefoundation.python.3.11_qbz5n2kfra8p0\\localcache\\local-packages\\python311\\site-packages (from httpx>=0.27->ollama) (4.9.0)\n",
      "Requirement already satisfied: certifi in c:\\users\\harsh\\appdata\\local\\packages\\pythonsoftwarefoundation.python.3.11_qbz5n2kfra8p0\\localcache\\local-packages\\python311\\site-packages (from httpx>=0.27->ollama) (2025.4.26)\n",
      "Requirement already satisfied: httpcore==1.* in c:\\users\\harsh\\appdata\\local\\packages\\pythonsoftwarefoundation.python.3.11_qbz5n2kfra8p0\\localcache\\local-packages\\python311\\site-packages (from httpx>=0.27->ollama) (1.0.9)\n",
      "Requirement already satisfied: idna in c:\\users\\harsh\\appdata\\local\\packages\\pythonsoftwarefoundation.python.3.11_qbz5n2kfra8p0\\localcache\\local-packages\\python311\\site-packages (from httpx>=0.27->ollama) (3.10)\n",
      "Requirement already satisfied: h11>=0.16 in c:\\users\\harsh\\appdata\\local\\packages\\pythonsoftwarefoundation.python.3.11_qbz5n2kfra8p0\\localcache\\local-packages\\python311\\site-packages (from httpcore==1.*->httpx>=0.27->ollama) (0.16.0)\n",
      "Requirement already satisfied: annotated-types>=0.6.0 in c:\\users\\harsh\\appdata\\local\\packages\\pythonsoftwarefoundation.python.3.11_qbz5n2kfra8p0\\localcache\\local-packages\\python311\\site-packages (from pydantic>=2.9->ollama) (0.7.0)\n",
      "Requirement already satisfied: pydantic-core==2.33.2 in c:\\users\\harsh\\appdata\\local\\packages\\pythonsoftwarefoundation.python.3.11_qbz5n2kfra8p0\\localcache\\local-packages\\python311\\site-packages (from pydantic>=2.9->ollama) (2.33.2)\n",
      "Requirement already satisfied: typing-extensions>=4.12.2 in c:\\users\\harsh\\appdata\\local\\packages\\pythonsoftwarefoundation.python.3.11_qbz5n2kfra8p0\\localcache\\local-packages\\python311\\site-packages (from pydantic>=2.9->ollama) (4.13.2)\n",
      "Requirement already satisfied: typing-inspection>=0.4.0 in c:\\users\\harsh\\appdata\\local\\packages\\pythonsoftwarefoundation.python.3.11_qbz5n2kfra8p0\\localcache\\local-packages\\python311\\site-packages (from pydantic>=2.9->ollama) (0.4.1)\n",
      "Requirement already satisfied: sniffio>=1.1 in c:\\users\\harsh\\appdata\\local\\packages\\pythonsoftwarefoundation.python.3.11_qbz5n2kfra8p0\\localcache\\local-packages\\python311\\site-packages (from anyio->httpx>=0.27->ollama) (1.3.1)\n",
      "Note: you may need to restart the kernel to use updated packages.\n"
     ]
    },
    {
     "name": "stderr",
     "output_type": "stream",
     "text": [
      "\n",
      "[notice] A new release of pip is available: 24.0 -> 25.1.1\n",
      "[notice] To update, run: C:\\Users\\harsh\\AppData\\Local\\Microsoft\\WindowsApps\\PythonSoftwareFoundation.Python.3.11_qbz5n2kfra8p0\\python.exe -m pip install --upgrade pip\n"
     ]
    }
   ],
   "source": [
    "pip install pymongo ollama "
   ]
  },
  {
   "cell_type": "code",
   "execution_count": 2,
   "id": "5eb862a7",
   "metadata": {},
   "outputs": [
    {
     "name": "stdout",
     "output_type": "stream",
     "text": [
      "{'_id': ObjectId('6837002e8264cee68ed0505d'), 'ProductID': 101, 'ProductName': 'Wireless Mouse', 'Category': 'Electronics', 'Price': 25.99, 'Rating': 4.5, 'ReviewCount': 200, 'Stock': 150, 'Discount': '10%', 'Brand': 'Logitech', 'LaunchDate': datetime.datetime(2022, 1, 15, 0, 0)}\n",
      "{'_id': ObjectId('6837002e8264cee68ed0505e'), 'ProductID': 102, 'ProductName': 'Gaming Keyboard', 'Category': 'Electronics', 'Price': 75.49, 'Rating': 4.7, 'ReviewCount': 350, 'Stock': 85, 'Discount': '5%', 'Brand': 'Corsair', 'LaunchDate': datetime.datetime(2021, 11, 20, 0, 0)}\n",
      "{'_id': ObjectId('6837002e8264cee68ed0505f'), 'ProductID': 103, 'ProductName': 'Noise Cancelling Headphones', 'Category': 'Electronics', 'Price': 199.99, 'Rating': 4.8, 'ReviewCount': 125, 'Stock': 60, 'Discount': '15%', 'Brand': 'Sony', 'LaunchDate': datetime.datetime(2021, 9, 5, 0, 0)}\n",
      "{'_id': ObjectId('6837002e8264cee68ed05060'), 'ProductID': 104, 'ProductName': 'Running Shoes', 'Category': 'Sports', 'Price': 49.99, 'Rating': 4.3, 'ReviewCount': 500, 'Stock': 200, 'Discount': '20%', 'Brand': 'Nike', 'LaunchDate': datetime.datetime(2022, 2, 10, 0, 0)}\n",
      "{'_id': ObjectId('6837002e8264cee68ed05061'), 'ProductID': 105, 'ProductName': 'Smartwatch', 'Category': 'Electronics', 'Price': 159.99, 'Rating': 4.6, 'ReviewCount': 220, 'Stock': 45, 'Discount': '10%', 'Brand': 'Apple', 'LaunchDate': datetime.datetime(2022, 3, 30, 0, 0)}\n",
      "{'_id': ObjectId('6837002e8264cee68ed05062'), 'ProductID': 106, 'ProductName': 'Blender', 'Category': 'Home & Kitchen', 'Price': 39.99, 'Rating': 4.2, 'ReviewCount': 180, 'Stock': 120, 'Discount': '12%', 'Brand': 'Ninja', 'LaunchDate': datetime.datetime(2021, 12, 25, 0, 0)}\n",
      "{'_id': ObjectId('6837002e8264cee68ed05063'), 'ProductID': 107, 'ProductName': 'Coffee Maker', 'Category': 'Home & Kitchen', 'Price': 89.99, 'Rating': 4.1, 'ReviewCount': 240, 'Stock': 90, 'Discount': '8%', 'Brand': 'Keurig', 'LaunchDate': datetime.datetime(2021, 8, 15, 0, 0)}\n",
      "{'_id': ObjectId('6837002e8264cee68ed05064'), 'ProductID': 108, 'ProductName': 'Yoga Mat', 'Category': 'Sports', 'Price': 29.99, 'Rating': 4.4, 'ReviewCount': 320, 'Stock': 300, 'Discount': '5%', 'Brand': 'Manduka', 'LaunchDate': datetime.datetime(2022, 1, 5, 0, 0)}\n",
      "{'_id': ObjectId('6837002e8264cee68ed05065'), 'ProductID': 109, 'ProductName': 'Smart TV', 'Category': 'Electronics', 'Price': 399.99, 'Rating': 4.7, 'ReviewCount': 150, 'Stock': 25, 'Discount': '15%', 'Brand': 'Samsung', 'LaunchDate': datetime.datetime(2022, 6, 10, 0, 0)}\n",
      "{'_id': ObjectId('6837002e8264cee68ed05066'), 'ProductID': 110, 'ProductName': 'Vacuum Cleaner', 'Category': 'Home & Kitchen', 'Price': 129.99, 'Rating': 4.3, 'ReviewCount': 290, 'Stock': 70, 'Discount': '10%', 'Brand': 'Dyson', 'LaunchDate': datetime.datetime(2021, 10, 20, 0, 0)}\n"
     ]
    }
   ],
   "source": [
    "# Check if MongoDB is running and print all documents in a collection\n",
    "from pymongo import MongoClient\n",
    "Client = MongoClient(\"mongodb://localhost:27017/\")\n",
    "db = Client[\"product_db\"]  # change as needed\n",
    "collection = db[\"products\"]  # change as needed\n",
    "\n",
    "for doc in collection.find():\n",
    "    print(doc)"
   ]
  },
  {
   "cell_type": "code",
   "execution_count": 3,
   "id": "effe7fe8",
   "metadata": {},
   "outputs": [
    {
     "data": {
      "text/plain": [
       "'List products launched after January 1, 2022, in the Home & Kitchen or Sports\\ncategories with a discount of 10% or more, sorted by price in descending order.'"
      ]
     },
     "execution_count": 3,
     "metadata": {},
     "output_type": "execute_result"
    }
   ],
   "source": [
    "# Test case: 1\n",
    "\"\"\"Find all products with a rating below 4.5 that have more than 200 reviews and\n",
    "are offered by the brand 'Nike' or 'Sony'\"\"\"\n",
    "# Test case: 2\n",
    "\"\"\"Which products in the Electronics category have a rating of 4.5 or higher and are\n",
    "in stock?\"\"\"\n",
    "# Test case: 3\n",
    "\"\"\"List products launched after January 1, 2022, in the Home & Kitchen or Sports\n",
    "categories with a discount of 10% or more, sorted by price in descending order.\"\"\""
   ]
  },
  {
   "cell_type": "markdown",
   "id": "db6171a5",
   "metadata": {},
   "source": [
    "source code\n"
   ]
  },
  {
   "cell_type": "code",
   "execution_count": null,
   "id": "53ede969",
   "metadata": {},
   "outputs": [],
   "source": [
    "import json\n",
    "import os\n",
    "from pymongo import MongoClient\n",
    "from ollama import Client\n",
    "\n",
    "# Connect to local MongoDB\n",
    "mongo_client = MongoClient(\"mongodb://localhost:27017/\")\n",
    "db = mongo_client[\"product_db\"]  # change as needed\n",
    "collection = db[\"products\"]      # change as needed\n",
    "\n",
    "# Connect to local Ollama LLM (Mistral)\n",
    "llm_client = Client(host=\"http://localhost:11434\")\n",
    "\n",
    "def generate_mongo_query(user_input):\n",
    "    system_msg = {\n",
    "        \"role\": \"system\",\n",
    "        \"content\": (\n",
    "            \"You are a MongoDB query generator. Convert natural language into MongoDB query **filters** only.\\n\"\n",
    "            \"Return ONLY the Python dict to be used inside collection.find(FILTER), NOT sort, projection, or options.\\n\"\n",
    "            \"Do NOT return multiple objects. Do NOT include sorting, projections, or aggregations.\\n\"\n",
    "            \"Only use these fields with correct types:\\n\"\n",
    "            \"ProductID (string), ProductName (string), Category (string), Price (number), Rating (number),\\n\"\n",
    "            \"ReviewCount (number), Stock (number), Discount (number), Brand (string), LaunchDate (ISODate string).\\n\"\n",
    "            \"Use valid operators: $gt, $lt, $gte, $lte, $in, $regex, etc.\\n\"\n",
    "            \"Example input: Products from Home & Kitchen or Sports launched after Jan 1, 2022, with 10%+ discount\\n\"\n",
    "            \"Example output: {\\\"Category\\\": {\\\"$in\\\": [\\\"Home & Kitchen\\\", \\\"Sports\\\"]}, \\\"LaunchDate\\\": {\\\"$gte\\\": \\\"2022-01-01T00:00:00\\\"}, \\\"Discount\\\": {\\\"$gte\\\": 0.1}}\"\n",
    "        )\n",
    "    }\n",
    "\n",
    "    user_msg = {\n",
    "        \"role\": \"user\",\n",
    "        \"content\": user_input\n",
    "    }\n",
    "\n",
    "    response = llm_client.chat(model=\"mistral\", messages=[system_msg, user_msg])\n",
    "\n",
    "    try:\n",
    "        content = response['message']['content'].strip()\n",
    "        if content.startswith(\"```\"):\n",
    "            content = content.strip(\"```python\\n\").strip(\"```\")\n",
    "        query_dict = json.loads(content.replace(\"'\", \"\\\"\"))\n",
    "        return query_dict\n",
    "    except Exception as e:\n",
    "        print(\"Error parsing query from model:\", e)\n",
    "        print(\"Model response was:\", response['message']['content'])\n",
    "        return {}\n",
    "\n",
    "def main():\n",
    "    user_input = input(\"Enter your query (natural language): \")\n",
    "    \n",
    "    query = generate_mongo_query(user_input)\n",
    "    print(\"Generated MongoDB Query:\", query)\n",
    "\n",
    "    if not query:\n",
    "        print(\"Invalid query. Exiting.\")\n",
    "        return\n",
    "\n",
    "    # Fetch data\n",
    "    results = list(collection.find(query))\n",
    "    if not results:\n",
    "        print(\"No results found.\")\n",
    "        return\n",
    "\n",
    "    # Ask user what to do with the results\n",
    "    action = input(\"Do you want to (d)isplay the results or (s)ave to a file? (d/s): \").strip().lower()\n",
    "\n",
    "    if action == 'd':\n",
    "        for doc in results:\n",
    "            print(json.dumps(doc, indent=4, default=str))\n",
    "    elif action == 's':\n",
    "        output_path = input(\"Enter output file name (e.g., output.json): \").strip()\n",
    "        output_data = {\n",
    "            \"query\": user_input,\n",
    "            \"mongodb_query\": query,\n",
    "            \"results\": results\n",
    "        }\n",
    "        with open(output_path, \"w\") as f:\n",
    "            json.dump(output_data, f, indent=4, default=str)\n",
    "        print(f\"Query, MongoDB filter, and results saved to {output_path}\")\n",
    "    else:\n",
    "        print(\"Invalid option.\")\n",
    "\n",
    "if __name__ == \"__main__\":\n",
    "    main()\n"
   ]
  },
  {
   "cell_type": "code",
   "execution_count": null,
   "id": "28b87418",
   "metadata": {},
   "outputs": [],
   "source": []
  }
 ],
 "metadata": {
  "kernelspec": {
   "display_name": "Python 3",
   "language": "python",
   "name": "python3"
  },
  "language_info": {
   "codemirror_mode": {
    "name": "ipython",
    "version": 3
   },
   "file_extension": ".py",
   "mimetype": "text/x-python",
   "name": "python",
   "nbconvert_exporter": "python",
   "pygments_lexer": "ipython3",
   "version": "3.11.9"
  }
 },
 "nbformat": 4,
 "nbformat_minor": 5
}
